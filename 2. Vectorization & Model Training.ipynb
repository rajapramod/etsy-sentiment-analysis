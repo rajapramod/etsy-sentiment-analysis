{
 "cells": [
  {
   "cell_type": "markdown",
   "id": "flying-moderator",
   "metadata": {},
   "source": [
    "### Importing Libraries & Loading Data"
   ]
  },
  {
   "cell_type": "code",
   "execution_count": 7,
   "id": "logical-provision",
   "metadata": {},
   "outputs": [
    {
     "data": {
      "text/html": [
       "<div>\n",
       "<style scoped>\n",
       "    .dataframe tbody tr th:only-of-type {\n",
       "        vertical-align: middle;\n",
       "    }\n",
       "\n",
       "    .dataframe tbody tr th {\n",
       "        vertical-align: top;\n",
       "    }\n",
       "\n",
       "    .dataframe thead th {\n",
       "        text-align: right;\n",
       "    }\n",
       "</style>\n",
       "<table border=\"1\" class=\"dataframe\">\n",
       "  <thead>\n",
       "    <tr style=\"text-align: right;\">\n",
       "      <th></th>\n",
       "      <th>reviewText</th>\n",
       "      <th>reviewPositive</th>\n",
       "    </tr>\n",
       "  </thead>\n",
       "  <tbody>\n",
       "    <tr>\n",
       "      <th>125640</th>\n",
       "      <td>My nephew loves them.</td>\n",
       "      <td>1</td>\n",
       "    </tr>\n",
       "    <tr>\n",
       "      <th>506030</th>\n",
       "      <td>They aren't very durable.</td>\n",
       "      <td>1</td>\n",
       "    </tr>\n",
       "    <tr>\n",
       "      <th>92459</th>\n",
       "      <td>Great shoes. Comfortable as soon as you put th...</td>\n",
       "      <td>1</td>\n",
       "    </tr>\n",
       "    <tr>\n",
       "      <th>463213</th>\n",
       "      <td>I got these in need of shoes to lounge around ...</td>\n",
       "      <td>1</td>\n",
       "    </tr>\n",
       "    <tr>\n",
       "      <th>460421</th>\n",
       "      <td>This is my third pair of these. I love the fit...</td>\n",
       "      <td>1</td>\n",
       "    </tr>\n",
       "  </tbody>\n",
       "</table>\n",
       "</div>"
      ],
      "text/plain": [
       "                                               reviewText  reviewPositive\n",
       "125640                              My nephew loves them.               1\n",
       "506030                          They aren't very durable.               1\n",
       "92459   Great shoes. Comfortable as soon as you put th...               1\n",
       "463213  I got these in need of shoes to lounge around ...               1\n",
       "460421  This is my third pair of these. I love the fit...               1"
      ]
     },
     "execution_count": 7,
     "metadata": {},
     "output_type": "execute_result"
    }
   ],
   "source": [
    "import numpy as np\n",
    "import pandas as pd\n",
    "import sys\n",
    "from sklearn.feature_extraction.text import CountVectorizer\n",
    "from sklearn.feature_extraction.text import TfidfVectorizer\n",
    "from sklearn.linear_model import LogisticRegression\n",
    "from sklearn.metrics import confusion_matrix\n",
    "from sklearn.metrics import roc_auc_score\n",
    "\n",
    "df = pd.read_csv('binarized_reviews.csv')\n",
    "df.sample(5)"
   ]
  },
  {
   "cell_type": "markdown",
   "id": "convenient-explosion",
   "metadata": {},
   "source": [
    "### Train-Test Split"
   ]
  },
  {
   "cell_type": "code",
   "execution_count": 8,
   "id": "hidden-bikini",
   "metadata": {},
   "outputs": [],
   "source": [
    "features_train, features_test, labels_train, labels_test = train_test_split(df['reviewText'], df['reviewPositive'], test_size=0.3, random_state=42)"
   ]
  },
  {
   "cell_type": "markdown",
   "id": "superior-words",
   "metadata": {},
   "source": [
    "### Vectorizing the reviews using CountVectorizer"
   ]
  },
  {
   "cell_type": "code",
   "execution_count": 9,
   "id": "breathing-organ",
   "metadata": {},
   "outputs": [
    {
     "name": "stdout",
     "output_type": "stream",
     "text": [
      "Length of the vocabulary:  63967 words\n"
     ]
    }
   ],
   "source": [
    "# Creating a vocabulary (a dictionary of all unique words in the features_train data)\n",
    "vectorizer = CountVectorizer().fit(features_train)\n",
    "\n",
    "print('Length of the vocabulary:',len(vectorizer.get_feature_names()), 'words')\n",
    "\n",
    "# vectorizer.get_feature_names()[20000:20010]\n",
    "\n",
    "features_train_vectorized = vectorizer.transform(features_train)"
   ]
  },
  {
   "cell_type": "markdown",
   "id": "documented-squad",
   "metadata": {},
   "source": [
    "Displaying a single complete vectorized feature input. We can see the bag of words model, set of numbers (frequency) of words."
   ]
  },
  {
   "cell_type": "code",
   "execution_count": 10,
   "id": "neither-thickness",
   "metadata": {},
   "outputs": [],
   "source": [
    "numpy.set_printoptions(threshold=sys.maxsize)\n",
    "\n",
    "# features_train_vectorized[1].toarray()\n",
    "\n",
    "# Changing back the threshold setting\n",
    "# numpy.set_printoptions(threshold=None)"
   ]
  },
  {
   "cell_type": "code",
   "execution_count": 11,
   "id": "lucky-baker",
   "metadata": {},
   "outputs": [
    {
     "name": "stdout",
     "output_type": "stream",
     "text": [
      "Shape of features_train_vectorized:  (369259, 63967)\n"
     ]
    }
   ],
   "source": [
    "print('Shape of features_train_vectorized: ', features_train_vectorized.shape)"
   ]
  },
  {
   "cell_type": "markdown",
   "id": "cooperative-palestine",
   "metadata": {},
   "source": [
    "#### Modeling, Prediction & Calculating Accuracy"
   ]
  },
  {
   "cell_type": "code",
   "execution_count": 27,
   "id": "irish-chassis",
   "metadata": {},
   "outputs": [
    {
     "data": {
      "text/plain": [
       "0.8918943739250909"
      ]
     },
     "execution_count": 27,
     "metadata": {},
     "output_type": "execute_result"
    }
   ],
   "source": [
    "model = LogisticRegression(C = 0.01, max_iter=150)\n",
    "model.fit(features_train_vectorized, labels_train)\n",
    "\n",
    "predictions = model.predict(vectorizer.transform(features_test))\n",
    "\n",
    "confusion_matrix(labels_test, predictions)\n",
    "\n",
    "roc_auc_score(labels_test, predictions)"
   ]
  },
  {
   "cell_type": "code",
   "execution_count": 13,
   "id": "appropriate-updating",
   "metadata": {},
   "outputs": [
    {
     "data": {
      "text/plain": [
       "158255"
      ]
     },
     "execution_count": 13,
     "metadata": {},
     "output_type": "execute_result"
    }
   ],
   "source": [
    "len(features_test)"
   ]
  },
  {
   "cell_type": "markdown",
   "id": "novel-shirt",
   "metadata": {},
   "source": [
    "### Calculating Tf-idf score for a word in document.\n",
    "\n",
    " - TF $\\Rightarrow$ Term frequency\n",
    " - IDF $\\Rightarrow$ Inverse Document Frequency\n",
    " \n",
    " $Tf-idf = Term\\;Frequency \\times Inverse-Document\\;Frequency $ \n",
    " \n",
    " where\n",
    " \n",
    " $Term\\;Frequency (TF)=\\frac{Count\\;of\\;that\\;word\\;appears\\;in\\;a\\;document}{Length\\;of\\;that\\;document} $\n",
    " \n",
    " $Term\\;Frequency = \\frac{Count(Word)}{Length(Document)}$\n",
    " \n",
    " $IDF = \\frac{Total\\;number\\;of\\;documents}{Number\\;of\\;documents\\;that\\;contain\\;the\\;word} $\n"
   ]
  },
  {
   "cell_type": "markdown",
   "id": "narrative-anchor",
   "metadata": {},
   "source": [
    " $$ TF-IDF\\;Score = \\frac{Count(Word)}{Length(Document)} \\times log\\Bigg ( \\frac{Total\\;number\\;of\\;documents}{Number\\;of\\;documents\\;that\\;contain\\;the\\;word}\\Bigg ) $$"
   ]
  },
  {
   "cell_type": "markdown",
   "id": "respiratory-tackle",
   "metadata": {},
   "source": [
    " Higher the Tf-idf score, more relevant that word in that document. \n",
    " \n",
    " One review $\\Rightarrow$ One document"
   ]
  },
  {
   "cell_type": "markdown",
   "id": "promising-deficit",
   "metadata": {},
   "source": [
    "### Vectorizing using Tf-idf Vectorizer"
   ]
  },
  {
   "cell_type": "code",
   "execution_count": 14,
   "id": "capable-agent",
   "metadata": {},
   "outputs": [],
   "source": [
    "# min_df=5 --> We ignore the words that are repeated in the document >= 5 times. \n",
    "vect = TfidfVectorizer(min_df=5, decode_error='replace').fit(features_train)\n",
    "\n",
    "# Here, we get less features than before. This will lead us to have a smaller sparse matrix."
   ]
  },
  {
   "cell_type": "code",
   "execution_count": 15,
   "id": "alive-collector",
   "metadata": {},
   "outputs": [
    {
     "data": {
      "text/plain": [
       "18694"
      ]
     },
     "execution_count": 15,
     "metadata": {},
     "output_type": "execute_result"
    }
   ],
   "source": [
    "len(vect.get_feature_names())"
   ]
  },
  {
   "cell_type": "markdown",
   "id": "presidential-average",
   "metadata": {},
   "source": [
    "- If you're using scikit-learn version <= 0.22.x, you will get an error:\n",
    "    `Attributeerror: str' object has no attribute 'decode'` at line 7. \n",
    "- Updating the scikit-learn (version=0.24.1) would fix the problem."
   ]
  },
  {
   "cell_type": "code",
   "execution_count": 16,
   "id": "drawn-shape",
   "metadata": {},
   "outputs": [
    {
     "data": {
      "text/plain": [
       "'0.24.1'"
      ]
     },
     "execution_count": 16,
     "metadata": {},
     "output_type": "execute_result"
    }
   ],
   "source": [
    "import sklearn\n",
    "sklearn.__version__"
   ]
  },
  {
   "cell_type": "code",
   "execution_count": 21,
   "id": "caring-uzbekistan",
   "metadata": {},
   "outputs": [],
   "source": [
    "features_train_vectorized_tfidf = vect.transform(features_train)\n",
    "\n",
    "# The Logistic Regression is now using the data that is generated by Tf-idf vectorizer.\n",
    "\n",
    "model = LogisticRegression(max_iter=200)\n",
    "\n",
    "model.fit(features_train_vectorized_tfidf, labels_train)\n",
    "\n",
    "predictions = model.predict(vect.transform(features_test))"
   ]
  },
  {
   "cell_type": "markdown",
   "id": "operational-scene",
   "metadata": {},
   "source": [
    "#### Calculating Model Accuracy"
   ]
  },
  {
   "cell_type": "code",
   "execution_count": 22,
   "id": "promising-understanding",
   "metadata": {},
   "outputs": [
    {
     "data": {
      "text/plain": [
       "0.9022737119553056"
      ]
     },
     "execution_count": 22,
     "metadata": {},
     "output_type": "execute_result"
    }
   ],
   "source": [
    "confusion_matrix(labels_test, predictions)\n",
    "\n",
    "roc_auc_score(labels_test, predictions)"
   ]
  }
 ],
 "metadata": {
  "kernelspec": {
   "display_name": "Python 3",
   "language": "python",
   "name": "python3"
  },
  "language_info": {
   "codemirror_mode": {
    "name": "ipython",
    "version": 3
   },
   "file_extension": ".py",
   "mimetype": "text/x-python",
   "name": "python",
   "nbconvert_exporter": "python",
   "pygments_lexer": "ipython3",
   "version": "3.7.9"
  }
 },
 "nbformat": 4,
 "nbformat_minor": 5
}
